{
  "nbformat": 4,
  "nbformat_minor": 0,
  "metadata": {
    "colab": {
      "provenance": [],
      "include_colab_link": true
    },
    "kernelspec": {
      "name": "python3",
      "display_name": "Python 3"
    },
    "language_info": {
      "name": "python"
    }
  },
  "cells": [
    {
      "cell_type": "markdown",
      "metadata": {
        "id": "view-in-github",
        "colab_type": "text"
      },
      "source": [
        "<a href=\"https://colab.research.google.com/github/frankiwi6x6/mineria/blob/main/practica_de_python_mineria_de_datos_(2)_(1).ipynb\" target=\"_parent\"><img src=\"https://colab.research.google.com/assets/colab-badge.svg\" alt=\"Open In Colab\"/></a>"
      ]
    },
    {
      "cell_type": "markdown",
      "source": [
        "# manejo de pyhon"
      ],
      "metadata": {
        "id": "9BoQoE0HefG0"
      }
    },
    {
      "cell_type": "code",
      "execution_count": 1,
      "metadata": {
        "id": "0k1f-M_-ed6f"
      },
      "outputs": [],
      "source": [
        "import pandas as pd\n",
        "import numpy as np\n",
        "import matplotlib.pyplot as plt\n",
        "import seaborn as sns"
      ]
    },
    {
      "cell_type": "markdown",
      "source": [
        "# problema 1\n",
        "Usted tiene una matriz \\( A \\). Toda matriz tiene una descomposición llamada **SVD** (Singular Value Decomposition), es decir:\n",
        "\n",
        "$$\n",
        "A = U S V^T\n",
        "$$\n",
        "\n",
        "donde \\( S \\) es una matriz en este caso diagonal que contiene valores llamados **valores singulares**.\n",
        "\n",
        "La idea de este problema es que usted cree un programa que **automatice la detección de los valores singulares que son relevantes**. Esto se realiza de la siguiente manera:\n",
        "\n",
        "Si\n",
        "\n",
        "$$\n",
        "\\frac{\\sigma_j}{\\sigma_1} < 10^{-3}\n",
        "$$\n",
        "donde $\\sigma_j$ son los valores que estan almacenados en el arreglo S.\n",
        "\n",
        "entonces, si se cumple la condicion dada el valor singular $(\\sigma_j)$  **no es significativo**. Si no se cumple esta condición, entonces el valor es **significativo**.\n",
        "\n",
        "Utilice contadores para resolver este problema."
      ],
      "metadata": {
        "id": "9-88fgj9fJaK"
      }
    },
    {
      "cell_type": "code",
      "source": [
        "A = np.random.rand(1000,1000)\n",
        "U,S,V_t = np.linalg.svd(A)\n",
        "A\n"
      ],
      "metadata": {
        "colab": {
          "base_uri": "https://localhost:8080/"
        },
        "id": "wFg4YsWKehRO",
        "outputId": "490089fa-2f71-4ff7-e9ce-7aefe51fa9e4"
      },
      "execution_count": 65,
      "outputs": [
        {
          "output_type": "execute_result",
          "data": {
            "text/plain": [
              "array([[0.18255386, 0.53514098, 0.01310455, ..., 0.35183326, 0.81047281,\n",
              "        0.64311084],\n",
              "       [0.96429929, 0.63100656, 0.13415457, ..., 0.36401118, 0.54783222,\n",
              "        0.49688702],\n",
              "       [0.88406439, 0.42227426, 0.8512308 , ..., 0.98536328, 0.17463964,\n",
              "        0.18710883],\n",
              "       ...,\n",
              "       [0.1194004 , 0.59190887, 0.40894634, ..., 0.21393275, 0.76883436,\n",
              "        0.61708916],\n",
              "       [0.06542844, 0.54569244, 0.8416547 , ..., 0.09725488, 0.48495265,\n",
              "        0.07314195],\n",
              "       [0.02754826, 0.96129818, 0.59269662, ..., 0.33272339, 0.49699431,\n",
              "        0.89232313]])"
            ]
          },
          "metadata": {},
          "execution_count": 65
        }
      ]
    },
    {
      "cell_type": "code",
      "source": [
        "significativos = 0\n",
        "no_significativos = 0\n",
        "\n",
        "for j in S:\n",
        "    proporcion = j / S[0]  # S[0] es el primer valor singular (σ1)\n",
        "    if proporcion < 1e-3:\n",
        "        no_significativos += 1\n",
        "    else:\n",
        "        significativos += 1\n",
        "\n",
        "print(\"Valores singulares significativos:\", significativos)\n",
        "print(\"Valores singulares no significativos:\", no_significativos)"
      ],
      "metadata": {
        "id": "fovozTIHkgZ8",
        "colab": {
          "base_uri": "https://localhost:8080/"
        },
        "outputId": "ec0a2c06-c0d5-45af-a942-b766b4405561"
      },
      "execution_count": 66,
      "outputs": [
        {
          "output_type": "stream",
          "name": "stdout",
          "text": [
            "Valores singulares significativos: 964\n",
            "Valores singulares no significativos: 36\n"
          ]
        }
      ]
    },
    {
      "cell_type": "markdown",
      "source": [
        "# Problema 2\n",
        "\n",
        "Usted tiene la matriz B, lo que debe hacer es lo siguiente:\n",
        "* Calcule el rango de la matriz\n",
        "* Convierta la matriz en un dataframe\n",
        "* Calcule la matriz de correlacion\n",
        "* comente acerca de los valores de la matriz de correlacion, cree que existe conexion con el rango?, si es asi, de que tipo?"
      ],
      "metadata": {
        "id": "KQtqcAoghumD"
      }
    },
    {
      "cell_type": "code",
      "source": [
        "B = np.array([[1,2,3,4],[4,6,5,16],[4,6,8,16],[5,67,4,20]])\n",
        "B"
      ],
      "metadata": {
        "colab": {
          "base_uri": "https://localhost:8080/"
        },
        "id": "qH83r4L9fQhF",
        "outputId": "ba9a2be5-fbcb-4ae6-a5ec-95fc6b83fceb"
      },
      "execution_count": 53,
      "outputs": [
        {
          "output_type": "execute_result",
          "data": {
            "text/plain": [
              "array([[ 1,  2,  3,  4],\n",
              "       [ 4,  6,  5, 16],\n",
              "       [ 4,  6,  8, 16],\n",
              "       [ 5, 67,  4, 20]])"
            ]
          },
          "metadata": {},
          "execution_count": 53
        }
      ]
    },
    {
      "cell_type": "code",
      "source": [
        "# responder aca\n",
        "\n",
        "#Calcule el rango de la matriz\n",
        "B_rango = np.linalg.matrix_rank(B)\n",
        "print(B_rango)\n",
        "\n",
        "# Convertir la matriz en un dataframe\n",
        "\n",
        "df = pd.DataFrame(B)\n",
        "print(df)\n",
        "\n",
        "#Correlacion\n",
        "df.corr()\n",
        "\n",
        "print(\"La correlación entre la columna 1 y la columna 4 es la misma, debido a que son la misma columna\")\n"
      ],
      "metadata": {
        "id": "6GXDLpbzkfWs",
        "colab": {
          "base_uri": "https://localhost:8080/",
          "height": 279
        },
        "outputId": "e23a455a-d27b-49d9-cce0-c9b840de799b"
      },
      "execution_count": 59,
      "outputs": [
        {
          "output_type": "stream",
          "name": "stdout",
          "text": [
            "3\n",
            "   0   1  2   3\n",
            "0  1   2  3   4\n",
            "1  4   6  5  16\n",
            "2  4   6  8  16\n",
            "3  5  67  4  20\n"
          ]
        },
        {
          "output_type": "execute_result",
          "data": {
            "text/plain": [
              "          0         1         2         3\n",
              "0  1.000000  0.625605  0.445435  1.000000\n",
              "1  0.625605  1.000000 -0.261919  0.625605\n",
              "2  0.445435 -0.261919  1.000000  0.445435\n",
              "3  1.000000  0.625605  0.445435  1.000000"
            ],
            "text/html": [
              "\n",
              "  <div id=\"df-4c44527f-efe9-43b5-b207-35375b6b8ec8\" class=\"colab-df-container\">\n",
              "    <div>\n",
              "<style scoped>\n",
              "    .dataframe tbody tr th:only-of-type {\n",
              "        vertical-align: middle;\n",
              "    }\n",
              "\n",
              "    .dataframe tbody tr th {\n",
              "        vertical-align: top;\n",
              "    }\n",
              "\n",
              "    .dataframe thead th {\n",
              "        text-align: right;\n",
              "    }\n",
              "</style>\n",
              "<table border=\"1\" class=\"dataframe\">\n",
              "  <thead>\n",
              "    <tr style=\"text-align: right;\">\n",
              "      <th></th>\n",
              "      <th>0</th>\n",
              "      <th>1</th>\n",
              "      <th>2</th>\n",
              "      <th>3</th>\n",
              "    </tr>\n",
              "  </thead>\n",
              "  <tbody>\n",
              "    <tr>\n",
              "      <th>0</th>\n",
              "      <td>1.000000</td>\n",
              "      <td>0.625605</td>\n",
              "      <td>0.445435</td>\n",
              "      <td>1.000000</td>\n",
              "    </tr>\n",
              "    <tr>\n",
              "      <th>1</th>\n",
              "      <td>0.625605</td>\n",
              "      <td>1.000000</td>\n",
              "      <td>-0.261919</td>\n",
              "      <td>0.625605</td>\n",
              "    </tr>\n",
              "    <tr>\n",
              "      <th>2</th>\n",
              "      <td>0.445435</td>\n",
              "      <td>-0.261919</td>\n",
              "      <td>1.000000</td>\n",
              "      <td>0.445435</td>\n",
              "    </tr>\n",
              "    <tr>\n",
              "      <th>3</th>\n",
              "      <td>1.000000</td>\n",
              "      <td>0.625605</td>\n",
              "      <td>0.445435</td>\n",
              "      <td>1.000000</td>\n",
              "    </tr>\n",
              "  </tbody>\n",
              "</table>\n",
              "</div>\n",
              "    <div class=\"colab-df-buttons\">\n",
              "\n",
              "  <div class=\"colab-df-container\">\n",
              "    <button class=\"colab-df-convert\" onclick=\"convertToInteractive('df-4c44527f-efe9-43b5-b207-35375b6b8ec8')\"\n",
              "            title=\"Convert this dataframe to an interactive table.\"\n",
              "            style=\"display:none;\">\n",
              "\n",
              "  <svg xmlns=\"http://www.w3.org/2000/svg\" height=\"24px\" viewBox=\"0 -960 960 960\">\n",
              "    <path d=\"M120-120v-720h720v720H120Zm60-500h600v-160H180v160Zm220 220h160v-160H400v160Zm0 220h160v-160H400v160ZM180-400h160v-160H180v160Zm440 0h160v-160H620v160ZM180-180h160v-160H180v160Zm440 0h160v-160H620v160Z\"/>\n",
              "  </svg>\n",
              "    </button>\n",
              "\n",
              "  <style>\n",
              "    .colab-df-container {\n",
              "      display:flex;\n",
              "      gap: 12px;\n",
              "    }\n",
              "\n",
              "    .colab-df-convert {\n",
              "      background-color: #E8F0FE;\n",
              "      border: none;\n",
              "      border-radius: 50%;\n",
              "      cursor: pointer;\n",
              "      display: none;\n",
              "      fill: #1967D2;\n",
              "      height: 32px;\n",
              "      padding: 0 0 0 0;\n",
              "      width: 32px;\n",
              "    }\n",
              "\n",
              "    .colab-df-convert:hover {\n",
              "      background-color: #E2EBFA;\n",
              "      box-shadow: 0px 1px 2px rgba(60, 64, 67, 0.3), 0px 1px 3px 1px rgba(60, 64, 67, 0.15);\n",
              "      fill: #174EA6;\n",
              "    }\n",
              "\n",
              "    .colab-df-buttons div {\n",
              "      margin-bottom: 4px;\n",
              "    }\n",
              "\n",
              "    [theme=dark] .colab-df-convert {\n",
              "      background-color: #3B4455;\n",
              "      fill: #D2E3FC;\n",
              "    }\n",
              "\n",
              "    [theme=dark] .colab-df-convert:hover {\n",
              "      background-color: #434B5C;\n",
              "      box-shadow: 0px 1px 3px 1px rgba(0, 0, 0, 0.15);\n",
              "      filter: drop-shadow(0px 1px 2px rgba(0, 0, 0, 0.3));\n",
              "      fill: #FFFFFF;\n",
              "    }\n",
              "  </style>\n",
              "\n",
              "    <script>\n",
              "      const buttonEl =\n",
              "        document.querySelector('#df-4c44527f-efe9-43b5-b207-35375b6b8ec8 button.colab-df-convert');\n",
              "      buttonEl.style.display =\n",
              "        google.colab.kernel.accessAllowed ? 'block' : 'none';\n",
              "\n",
              "      async function convertToInteractive(key) {\n",
              "        const element = document.querySelector('#df-4c44527f-efe9-43b5-b207-35375b6b8ec8');\n",
              "        const dataTable =\n",
              "          await google.colab.kernel.invokeFunction('convertToInteractive',\n",
              "                                                    [key], {});\n",
              "        if (!dataTable) return;\n",
              "\n",
              "        const docLinkHtml = 'Like what you see? Visit the ' +\n",
              "          '<a target=\"_blank\" href=https://colab.research.google.com/notebooks/data_table.ipynb>data table notebook</a>'\n",
              "          + ' to learn more about interactive tables.';\n",
              "        element.innerHTML = '';\n",
              "        dataTable['output_type'] = 'display_data';\n",
              "        await google.colab.output.renderOutput(dataTable, element);\n",
              "        const docLink = document.createElement('div');\n",
              "        docLink.innerHTML = docLinkHtml;\n",
              "        element.appendChild(docLink);\n",
              "      }\n",
              "    </script>\n",
              "  </div>\n",
              "\n",
              "\n",
              "<div id=\"df-cd57756f-999f-45a3-b1bf-8fa4e7a17466\">\n",
              "  <button class=\"colab-df-quickchart\" onclick=\"quickchart('df-cd57756f-999f-45a3-b1bf-8fa4e7a17466')\"\n",
              "            title=\"Suggest charts\"\n",
              "            style=\"display:none;\">\n",
              "\n",
              "<svg xmlns=\"http://www.w3.org/2000/svg\" height=\"24px\"viewBox=\"0 0 24 24\"\n",
              "     width=\"24px\">\n",
              "    <g>\n",
              "        <path d=\"M19 3H5c-1.1 0-2 .9-2 2v14c0 1.1.9 2 2 2h14c1.1 0 2-.9 2-2V5c0-1.1-.9-2-2-2zM9 17H7v-7h2v7zm4 0h-2V7h2v10zm4 0h-2v-4h2v4z\"/>\n",
              "    </g>\n",
              "</svg>\n",
              "  </button>\n",
              "\n",
              "<style>\n",
              "  .colab-df-quickchart {\n",
              "      --bg-color: #E8F0FE;\n",
              "      --fill-color: #1967D2;\n",
              "      --hover-bg-color: #E2EBFA;\n",
              "      --hover-fill-color: #174EA6;\n",
              "      --disabled-fill-color: #AAA;\n",
              "      --disabled-bg-color: #DDD;\n",
              "  }\n",
              "\n",
              "  [theme=dark] .colab-df-quickchart {\n",
              "      --bg-color: #3B4455;\n",
              "      --fill-color: #D2E3FC;\n",
              "      --hover-bg-color: #434B5C;\n",
              "      --hover-fill-color: #FFFFFF;\n",
              "      --disabled-bg-color: #3B4455;\n",
              "      --disabled-fill-color: #666;\n",
              "  }\n",
              "\n",
              "  .colab-df-quickchart {\n",
              "    background-color: var(--bg-color);\n",
              "    border: none;\n",
              "    border-radius: 50%;\n",
              "    cursor: pointer;\n",
              "    display: none;\n",
              "    fill: var(--fill-color);\n",
              "    height: 32px;\n",
              "    padding: 0;\n",
              "    width: 32px;\n",
              "  }\n",
              "\n",
              "  .colab-df-quickchart:hover {\n",
              "    background-color: var(--hover-bg-color);\n",
              "    box-shadow: 0 1px 2px rgba(60, 64, 67, 0.3), 0 1px 3px 1px rgba(60, 64, 67, 0.15);\n",
              "    fill: var(--button-hover-fill-color);\n",
              "  }\n",
              "\n",
              "  .colab-df-quickchart-complete:disabled,\n",
              "  .colab-df-quickchart-complete:disabled:hover {\n",
              "    background-color: var(--disabled-bg-color);\n",
              "    fill: var(--disabled-fill-color);\n",
              "    box-shadow: none;\n",
              "  }\n",
              "\n",
              "  .colab-df-spinner {\n",
              "    border: 2px solid var(--fill-color);\n",
              "    border-color: transparent;\n",
              "    border-bottom-color: var(--fill-color);\n",
              "    animation:\n",
              "      spin 1s steps(1) infinite;\n",
              "  }\n",
              "\n",
              "  @keyframes spin {\n",
              "    0% {\n",
              "      border-color: transparent;\n",
              "      border-bottom-color: var(--fill-color);\n",
              "      border-left-color: var(--fill-color);\n",
              "    }\n",
              "    20% {\n",
              "      border-color: transparent;\n",
              "      border-left-color: var(--fill-color);\n",
              "      border-top-color: var(--fill-color);\n",
              "    }\n",
              "    30% {\n",
              "      border-color: transparent;\n",
              "      border-left-color: var(--fill-color);\n",
              "      border-top-color: var(--fill-color);\n",
              "      border-right-color: var(--fill-color);\n",
              "    }\n",
              "    40% {\n",
              "      border-color: transparent;\n",
              "      border-right-color: var(--fill-color);\n",
              "      border-top-color: var(--fill-color);\n",
              "    }\n",
              "    60% {\n",
              "      border-color: transparent;\n",
              "      border-right-color: var(--fill-color);\n",
              "    }\n",
              "    80% {\n",
              "      border-color: transparent;\n",
              "      border-right-color: var(--fill-color);\n",
              "      border-bottom-color: var(--fill-color);\n",
              "    }\n",
              "    90% {\n",
              "      border-color: transparent;\n",
              "      border-bottom-color: var(--fill-color);\n",
              "    }\n",
              "  }\n",
              "</style>\n",
              "\n",
              "  <script>\n",
              "    async function quickchart(key) {\n",
              "      const quickchartButtonEl =\n",
              "        document.querySelector('#' + key + ' button');\n",
              "      quickchartButtonEl.disabled = true;  // To prevent multiple clicks.\n",
              "      quickchartButtonEl.classList.add('colab-df-spinner');\n",
              "      try {\n",
              "        const charts = await google.colab.kernel.invokeFunction(\n",
              "            'suggestCharts', [key], {});\n",
              "      } catch (error) {\n",
              "        console.error('Error during call to suggestCharts:', error);\n",
              "      }\n",
              "      quickchartButtonEl.classList.remove('colab-df-spinner');\n",
              "      quickchartButtonEl.classList.add('colab-df-quickchart-complete');\n",
              "    }\n",
              "    (() => {\n",
              "      let quickchartButtonEl =\n",
              "        document.querySelector('#df-cd57756f-999f-45a3-b1bf-8fa4e7a17466 button');\n",
              "      quickchartButtonEl.style.display =\n",
              "        google.colab.kernel.accessAllowed ? 'block' : 'none';\n",
              "    })();\n",
              "  </script>\n",
              "</div>\n",
              "\n",
              "    </div>\n",
              "  </div>\n"
            ],
            "application/vnd.google.colaboratory.intrinsic+json": {
              "type": "dataframe",
              "summary": "{\n  \"name\": \"df\",\n  \"rows\": 4,\n  \"fields\": [\n    {\n      \"column\": 0,\n      \"properties\": {\n        \"dtype\": \"number\",\n        \"std\": 0.2780718985869901,\n        \"min\": 0.44543540318737396,\n        \"max\": 1.0,\n        \"num_unique_values\": 3,\n        \"samples\": [\n          1.0,\n          0.6256052904719006,\n          0.44543540318737396\n        ],\n        \"semantic_type\": \"\",\n        \"description\": \"\"\n      }\n    },\n    {\n      \"column\": 1,\n      \"properties\": {\n        \"dtype\": \"number\",\n        \"std\": 0.5360490357389659,\n        \"min\": -0.2619192852579507,\n        \"max\": 1.0,\n        \"num_unique_values\": 3,\n        \"samples\": [\n          0.6256052904719006,\n          1.0,\n          -0.2619192852579507\n        ],\n        \"semantic_type\": \"\",\n        \"description\": \"\"\n      }\n    },\n    {\n      \"column\": 2,\n      \"properties\": {\n        \"dtype\": \"number\",\n        \"std\": 0.5170610358162921,\n        \"min\": -0.2619192852579507,\n        \"max\": 1.0,\n        \"num_unique_values\": 3,\n        \"samples\": [\n          0.44543540318737396,\n          -0.2619192852579507,\n          1.0\n        ],\n        \"semantic_type\": \"\",\n        \"description\": \"\"\n      }\n    },\n    {\n      \"column\": 3,\n      \"properties\": {\n        \"dtype\": \"number\",\n        \"std\": 0.2780718985869901,\n        \"min\": 0.44543540318737396,\n        \"max\": 1.0,\n        \"num_unique_values\": 3,\n        \"samples\": [\n          1.0,\n          0.6256052904719006,\n          0.44543540318737396\n        ],\n        \"semantic_type\": \"\",\n        \"description\": \"\"\n      }\n    }\n  ]\n}"
            }
          },
          "metadata": {},
          "execution_count": 59
        }
      ]
    },
    {
      "cell_type": "markdown",
      "source": [
        "# Problema 3\n",
        "\n",
        "Para este problema, cargue el dataset `tips` desde la librería `seaborn` y responda a lo siguiente:\n",
        "\n",
        "---\n",
        "\n",
        "### 🔹 Filtro 1: Propinas mayores a 6 dólares\n",
        "1. Filtre todas las observaciones donde la propina (`tip`) sea mayor a **6 dólares**.  \n",
        "   - ¿Cuántas observaciones cumplen con esta condición?  \n",
        "   - ¿Qué día ocurre esto con mayor frecuencia?\n",
        "\n",
        "---\n",
        "\n",
        "### 🔹 Filtro 2: Mujeres los domingos que dan propinas altas\n",
        "2. Filtre las propinas dadas por mujeres (`sex == \"Female\"`) los domingos (`day == \"Sun\"`) que sean **mayores a 5 dólares**.\n",
        "\n",
        "---\n",
        "\n",
        "### 🔹 Filtro 3: Cuentas moderadas\n",
        "3. Filtre las observaciones donde el total de la cuenta (`total_bill`) esté **entre 15 y 25 dólares**, inclusive.\n",
        "\n",
        "---\n",
        "\n",
        "### 🔹 Filtro 4: Propinas proporcionales elevadas\n",
        "4. Filtre las filas donde la propina represente **al menos el 25% del total de la cuenta**.  \n",
        "   *(Sugerencia: crear una columna `tip_pct = tip / total_bill`)*\n",
        "\n",
        "---\n",
        "\n",
        "### 🔹 Filtro 5: Hombres generosos los sábados\n",
        "5. Use la función `.query()` para filtrar las propinas dadas por **hombres** (`sex == \"Male\"`) los **sábados** (`day == \"Sat\"`) donde el total de la cuenta (`total_bill`) sea **mayor a 30 dólares**.\n",
        "\n",
        "---\n",
        "\n",
        "### 🔹 Filtro 6: Clientes excepcionalmente generosos\n",
        "6. Se define un **cliente excepcionalmente generoso** como aquel que cumple TODAS las siguientes condiciones:\n",
        "\n",
        "- Deja una propina **mayor al 30% del total de la cuenta**.\n",
        "- Paga una cuenta **superior al promedio general** del dataset.\n",
        "- Visita el local un **sábado o domingo**.\n",
        "\n",
        "#### Realice:\n",
        "- Filtre las observaciones que cumplan todas estas condiciones.\n",
        "- ¿Cuántos clientes hay en esta categoría?\n",
        "- ¿Qué proporción son hombres y mujeres?\n",
        "\n",
        "**Pistas:**\n",
        "- Cree la columna `tip_pct = tip / total_bill`.\n",
        "- Calcule `df[\"total_bill\"].mean()` para obtener el umbral del promedio.\n",
        "- Aplique el filtro múltiple usando `&` y `isin([\"Sat\", \"Sun\"])`."
      ],
      "metadata": {
        "id": "RRG41L_9jv-Q"
      }
    },
    {
      "cell_type": "code",
      "source": [
        "import seaborn as sns\n",
        "\n",
        "# responder aca\n",
        "df = sns.load_dataset(\"tips\")\n",
        "#Filtro 1\n",
        "df_filtro1 = df[df[\"tip\"]>6]\n",
        "df_filtro1[\"day\"].value_counts()\n",
        "\n",
        "#Filtro 2\n",
        "df_filtro2 = df[(df[\"sex\"] == \"Female\") & (df[\"day\"] == \"Sun\")]\n",
        "df_filtro2[\"tip\"].count()\n",
        "\n",
        "#Filtro 3\n",
        "df_filtro3 = df[(df[\"total_bill\"] >=15 )& (df[\"total_bill\"] <= 25)]\n",
        "print(df_filtro3[\"tip\"].count())\n",
        "\n",
        "#Filtro 4\n",
        "df_filtro4 = df\n",
        "df_filtro4[\"bill_pct\"] = df[\"tip\"]/df[\"total_bill\"]\n",
        "df_filtro4 = df_filtro4[\"bill_pct\"]>0.25\n",
        "print(f\"4 {df_filtro4.value_counts()}\")\n",
        "\n",
        "# Filtro 5\n",
        "\n",
        "df = sns.load_dataset(\"tips\")\n",
        "df_f5 = df\n",
        "print(len(df_f5.query(\"sex == 'Male' and day == 'Sat' & total_bill>30\").value_counts()))\n",
        "\n",
        "# Filtro 6\n",
        "df_f6 = df\n",
        "\"\"\"Deja una propina mayor al 30% del total de la cuenta.\n",
        "Paga una cuenta superior al promedio general del dataset.\n",
        "Visita el local un sábado o domingo.\"\"\"\n",
        "bill_avg = df_f6[\"total_bill\"].mean()\n",
        "tip_goal = df_f6[\"total_bill\"]*0.30\n",
        "print(bill_avg)"
      ],
      "metadata": {
        "id": "UhE8QyCSh35m",
        "colab": {
          "base_uri": "https://localhost:8080/"
        },
        "outputId": "ccfd74cc-5d3b-4584-e492-0e160c2d9d8c"
      },
      "execution_count": 176,
      "outputs": [
        {
          "output_type": "stream",
          "name": "stdout",
          "text": [
            "109\n",
            "4 bill_pct\n",
            "False    234\n",
            "True      10\n",
            "Name: count, dtype: int64\n",
            "9\n",
            "19.78594262295082\n"
          ]
        }
      ]
    },
    {
      "cell_type": "code",
      "source": [
        "df = sns.load_dataset(\"tips\")\n",
        "print(len(df.query(f\"tip > total_bill * 0.3 and total_bill > total_bill.mean() and  (day == 'Sat' or day == 'Sun')\")))\n"
      ],
      "metadata": {
        "colab": {
          "base_uri": "https://localhost:8080/"
        },
        "id": "8Q0O1jNwsKaG",
        "outputId": "50cdd4f6-940d-4375-e904-4e0f6ed075a5"
      },
      "execution_count": 179,
      "outputs": [
        {
          "output_type": "stream",
          "name": "stdout",
          "text": [
            "Cantidad de clientes excepcionalmente generosos: 0\n",
            "\n",
            "Proporción de género entre los clientes excepcionales:\n",
            "sex\n",
            "Male     NaN\n",
            "Female   NaN\n",
            "Name: proportion, dtype: float64\n"
          ]
        }
      ]
    },
    {
      "cell_type": "markdown",
      "source": [
        "# Problema 4\n",
        "\n",
        "Se define un **cliente anómalo por contexto** como aquel que cumple **todas** las siguientes condiciones:\n",
        "\n",
        "- Es **fumador** (`smoker == \"Yes\"`).\n",
        "- Su grupo es **pequeño** (`size <= 2`).\n",
        "- Deja una **propina menor a la mediana** general de todas las propinas.\n",
        "- Pero paga una cuenta cuyo total es **mayor al tercer cuartil (Q3)** del total de la cuenta (`total_bill`).\n",
        "\n",
        "---\n",
        "\n",
        "#### 🔍 Interpretación:\n",
        "Este cliente:\n",
        "- **Paga mucho**,\n",
        "- **Deja poca propina**, y\n",
        "- **Está acompañado de muy pocas personas**.\n",
        "\n",
        "---\n",
        "\n",
        "#### ✅ Instrucciones:\n",
        "1. Calcule la **mediana** de la columna `tip` y el **tercer cuartil (Q3)** de la columna `total_bill`.\n",
        "2. Aplique un **filtro múltiple** para seleccionar los registros que cumplan todas las condiciones mencionadas.\n",
        "3. ¿Cuántos clientes anómalos por contexto hay?\n",
        "4. ¿En qué días se presentan con mayor frecuencia?\n",
        "5. ¿Qué proporción son hombres y mujeres?\n",
        "\n",
        "---\n",
        "\n",
        "#### 💡 Sugerencia para resolver:\n",
        "- Use `df[\"tip\"].median()` y `df[\"total_bill\"].quantile(0.75)` para obtener los umbrales.\n",
        "- Aplique filtros con `&` y condiciones anidadas."
      ],
      "metadata": {
        "id": "8uSK5ESCk2BS"
      }
    },
    {
      "cell_type": "code",
      "source": [
        "# responder aca"
      ],
      "metadata": {
        "id": "D8TxlZLzk3Ey"
      },
      "execution_count": null,
      "outputs": []
    },
    {
      "cell_type": "markdown",
      "source": [
        "# Problema 5\n",
        "\n",
        "Recorra la columna `tip` del dataset `tips` y utilice contadores para:\n",
        "\n",
        "1. Contar **cuántas personas dejaron una propina mayor a 4 dólares**.\n",
        "2. De esas personas, contar cuántas eran **mujeres** (`sex == \"Female\"`) y cuántas eran **hombres** (`sex == \"Male\"`).\n",
        "3. Mostrar el total de personas, mujeres y hombres que cumplen con la condición.\n",
        "\n",
        "**Restricciones**: No utilice `groupby`, `query` ni filtros vectorizados. Hágalo con un `for` y condicionales `if`, ademas puede utilizar contadores\n",
        "\n",
        "**Sugerencia** : pase la columna a un arreglo de numpy para poder recorrerla\n"
      ],
      "metadata": {
        "id": "H9-goegcmy8x"
      }
    },
    {
      "cell_type": "code",
      "source": [
        "# responder aca"
      ],
      "metadata": {
        "id": "9RYSJYPYm1Zk"
      },
      "execution_count": null,
      "outputs": []
    }
  ]
}